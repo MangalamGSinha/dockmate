{
 "cells": [
  {
   "cell_type": "code",
   "execution_count": 1,
   "id": "f35f3851",
   "metadata": {},
   "outputs": [
    {
     "name": "stdout",
     "output_type": "stream",
     "text": [
      "C:\\Users\\MANGAL\\Desktop\\Docking\\dockmate\n",
      "^C\n",
      "Note: you may need to restart the kernel to use updated packages.\n"
     ]
    }
   ],
   "source": [
    "%cd \"C:\\Users\\MANGAL\\Desktop\\Docking\\dockmate\"\n",
    "%pip install . "
   ]
  },
  {
   "cell_type": "code",
   "execution_count": null,
   "id": "8f219035",
   "metadata": {},
   "outputs": [
    {
     "name": "stdout",
     "output_type": "stream",
     "text": [
      "✅ Temp folder cleaned: C:\\Users\\MANGAL\\Desktop\\Docking\\dockmate\\temp\n"
     ]
    }
   ],
   "source": [
    "from dockmate import Protein, Ligand, PocketFinder, VinaDocking\n",
    "from dockmate.utils import view_molecule, clean_temp_folder, fetch_pdb, fetch_sdf\n",
    " \n",
    "clean_temp_folder()"
   ]
  },
  {
   "cell_type": "code",
   "execution_count": 2,
   "id": "6f4879f9",
   "metadata": {},
   "outputs": [
    {
     "data": {
      "text/plain": [
       "WindowsPath('C:/Users/MANGAL/Desktop/Docking/1HVR.pdb')"
      ]
     },
     "execution_count": 2,
     "metadata": {},
     "output_type": "execute_result"
    }
   ],
   "source": [
    "fetch_pdb(pdb_id = \"1HVR\")"
   ]
  },
  {
   "cell_type": "code",
   "execution_count": 3,
   "id": "8f75ce9e",
   "metadata": {},
   "outputs": [],
   "source": [
    "protein = Protein('1HVR.pdb')\n",
    "protein.prepare()\n",
    "# protein.save_pdbqt()\n",
    "# view_molecule(file_path = protein.pdbqt_path, style = \"cartoon\")\n"
   ]
  },
  {
   "cell_type": "code",
   "execution_count": 4,
   "id": "c1101386",
   "metadata": {},
   "outputs": [
    {
     "data": {
      "text/plain": [
       "[{'rank': 1, 'center': (-9.2421, 16.1006, 27.6026)},\n",
       " {'rank': 2, 'center': (-12.5447, 21.7728, 45.5697)}]"
      ]
     },
     "execution_count": 4,
     "metadata": {},
     "output_type": "execute_result"
    }
   ],
   "source": [
    "pf = PocketFinder(protein.pdb_path)\n",
    "pockets = pf.run()\n",
    "# pf.save_report()\n",
    "pockets"
   ]
  },
  {
   "cell_type": "code",
   "execution_count": 5,
   "id": "afd3f19b",
   "metadata": {},
   "outputs": [
    {
     "data": {
      "text/plain": [
       "WindowsPath('C:/Users/MANGAL/Desktop/Docking/338.sdf')"
      ]
     },
     "execution_count": 5,
     "metadata": {},
     "output_type": "execute_result"
    }
   ],
   "source": [
    "fetch_sdf(cid = \"338\")"
   ]
  },
  {
   "cell_type": "code",
   "execution_count": 6,
   "id": "c4b89ef8",
   "metadata": {},
   "outputs": [],
   "source": [
    "ligand = Ligand(\"338.sdf\")\n",
    "ligand.prepare(minimize=None)\n",
    "# ligand.save_pdbqt()\n",
    "# view_molecule(file_path = ligand.pdbqt_path)"
   ]
  },
  {
   "cell_type": "markdown",
   "id": "cbb56899",
   "metadata": {},
   "source": [
    "#### Perform protein ligand docking at the first pocket"
   ]
  },
  {
   "cell_type": "code",
   "execution_count": 7,
   "id": "2629ad1a",
   "metadata": {},
   "outputs": [],
   "source": [
    "#Perform docking with the first pocket\n",
    "vina = VinaDocking(\n",
    "    receptor=protein.pdbqt_path,\n",
    "    ligand=ligand.pdbqt_path,\n",
    "    center=pockets[0]['center'], \n",
    "    size=(40, 40, 40),\n",
    "    cpu=4,\n",
    ")\n",
    "\n",
    "vina.run()\n",
    "vina.save_results(f\"vina_results/{protein.pdbqt_path.stem}_{ligand.pdbqt_path.stem}_pocket_1_docking\")\n",
    "\n"
   ]
  },
  {
   "cell_type": "markdown",
   "id": "cd572d83",
   "metadata": {},
   "source": [
    "#### Perform protein ligand docking at all the predicted protein pockets\n"
   ]
  },
  {
   "cell_type": "code",
   "execution_count": 8,
   "id": "1c91d1fc",
   "metadata": {},
   "outputs": [],
   "source": [
    "#Loop through each pocket and perform docking\n",
    "for pocket in pockets:\n",
    "    center = pocket[\"center\"]\n",
    "    rank = pocket[\"rank\"]\n",
    "\n",
    "    vina = VinaDocking(\n",
    "        receptor=protein.pdbqt_path,\n",
    "        ligand=ligand.pdbqt_path,\n",
    "        center=center,\n",
    "        size=(40, 40, 40),\n",
    "        exhaustiveness=8,\n",
    "        num_modes=9\n",
    "    )\n",
    "    vina.run()\n",
    "    vina.save_results(f\"vina_results/{protein.pdbqt_path.stem}_{ligand.pdbqt_path.stem}_pocket_{rank}_docking\")\n"
   ]
  }
 ],
 "metadata": {
  "kernelspec": {
   "display_name": ".venv",
   "language": "python",
   "name": "python3"
  },
  "language_info": {
   "codemirror_mode": {
    "name": "ipython",
    "version": 3
   },
   "file_extension": ".py",
   "mimetype": "text/x-python",
   "name": "python",
   "nbconvert_exporter": "python",
   "pygments_lexer": "ipython3",
   "version": "3.13.2"
  }
 },
 "nbformat": 4,
 "nbformat_minor": 5
}
