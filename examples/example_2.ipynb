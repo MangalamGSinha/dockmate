{
 "cells": [
  {
   "cell_type": "code",
   "execution_count": null,
   "id": "e8692b87",
   "metadata": {},
   "outputs": [
    {
     "name": "stdout",
     "output_type": "stream",
     "text": [
      "✅ Temp folder cleaned: C:\\Users\\MANGAL\\Desktop\\Docking\\dockmate\\temp\n"
     ]
    }
   ],
   "source": [
    "from dockmate import Protein, Ligand, PocketFinder, VinaDocking\n",
    "from dockmate.utils import view_molecule, clean_temp_folder, fetch_pdb, fetch_sdf\n",
    " \n",
    "from pathlib import Path\n",
    "clean_temp_folder()"
   ]
  },
  {
   "cell_type": "code",
   "execution_count": 2,
   "id": "8f684020",
   "metadata": {},
   "outputs": [
    {
     "data": {
      "text/plain": [
       "[{'rank': 1, 'center': (-9.2421, 16.1006, 27.6026)},\n",
       " {'rank': 2, 'center': (-12.5447, 21.7728, 45.5697)}]"
      ]
     },
     "execution_count": 2,
     "metadata": {},
     "output_type": "execute_result"
    }
   ],
   "source": [
    "# Step 1: Prepare the protein\n",
    "protein = Protein('1HVR.pdb')\n",
    "protein.prepare()\n",
    "# protein.save_pdbqt()\n",
    "\n",
    "# Step 2: Run pocket detection\n",
    "pf = PocketFinder(protein.pdb_path)\n",
    "pockets = pf.run()\n",
    "# pf.save_report()\n",
    "pockets"
   ]
  },
  {
   "cell_type": "code",
   "execution_count": null,
   "id": "d5b29b3c",
   "metadata": {},
   "outputs": [],
   "source": [
    "fetch_sdf(cid = \"338\", save_dir=\"ligands\")\n",
    "fetch_sdf(cid = \"5288826\", save_dir=\"ligands\")\n",
    "\n",
    "# Step 3: Set up ligand folder\n",
    "ligand_folder = Path(\"ligands\")  # Your folder with SDF files\n",
    "ligand_files = sorted(ligand_folder.glob(\"*.sdf\"))"
   ]
  },
  {
   "cell_type": "markdown",
   "id": "0cceb7a5",
   "metadata": {},
   "source": [
    "### Docks each ligand against a single receptor (at the first pocket)."
   ]
  },
  {
   "cell_type": "code",
   "execution_count": 4,
   "id": "26973ed2",
   "metadata": {},
   "outputs": [
    {
     "name": "stdout",
     "output_type": "stream",
     "text": [
      "\n",
      "Processing: 338.sdf\n",
      "Docking receptor: 1HVR.pdbqt, ligand: 338.pdbqt\n",
      "\n",
      "Processing: 5288826.sdf\n",
      "Docking receptor: 1HVR.pdbqt, ligand: 5288826.pdbqt\n"
     ]
    }
   ],
   "source": [
    "# Step 4: Loop through each ligand\n",
    "for ligand_file in ligand_files:\n",
    "    print(f\"\\nProcessing: {ligand_file.name}\")\n",
    "    \n",
    "    # Prepare ligand\n",
    "    ligand = Ligand(str(ligand_file))\n",
    "    ligand.prepare(minimize=None)\n",
    "    # ligand.save_pdbqt()\n",
    "    \n",
    "    # Perform docking with first pocket\n",
    "    print(f\"Docking receptor: {protein.pdbqt_path.name}, ligand: {ligand.pdbqt_path.name}\")\n",
    "    \n",
    "    vina = VinaDocking(\n",
    "        receptor=protein.pdbqt_path,\n",
    "        ligand=ligand.pdbqt_path,\n",
    "        center=pockets[0]['center'],  # Only using first pocket\n",
    "        size=(40, 40, 40),\n",
    "        exhaustiveness=8,\n",
    "        num_modes=9\n",
    "    )\n",
    "    vina.run()\n",
    "\n",
    "    # Save results with unique prefix\n",
    "    vina.save_results(f\"vina_results/{protein.pdbqt_path.stem}_{ligand.pdbqt_path.stem}_pocket_1_docked\")\n"
   ]
  },
  {
   "cell_type": "markdown",
   "id": "72903fd4",
   "metadata": {},
   "source": [
    "#### Dock each ligand against a single receptor at all the predicted protein pockets\n"
   ]
  },
  {
   "cell_type": "code",
   "execution_count": 5,
   "id": "06dae6eb",
   "metadata": {},
   "outputs": [
    {
     "name": "stdout",
     "output_type": "stream",
     "text": [
      "\n",
      "Processing: 338.sdf\n",
      "Docking receptor: 1HVR.pdbqt, ligand: 338.pdbqt, pocket: 1\n",
      "Docking receptor: 1HVR.pdbqt, ligand: 338.pdbqt, pocket: 2\n",
      "\n",
      "Processing: 5288826.sdf\n",
      "Docking receptor: 1HVR.pdbqt, ligand: 5288826.pdbqt, pocket: 1\n",
      "Docking receptor: 1HVR.pdbqt, ligand: 5288826.pdbqt, pocket: 2\n"
     ]
    }
   ],
   "source": [
    "# Step 4: Loop through each ligand\n",
    "for ligand_file in ligand_files:\n",
    "    print(f\"\\nProcessing: {ligand_file.name}\")\n",
    "    \n",
    "    # Prepare ligand\n",
    "    ligand = Ligand(str(ligand_file))\n",
    "    ligand.prepare(minimize=None)\n",
    "    # ligand.save_pdbqt()\n",
    "    \n",
    "    \n",
    "    for pocket in pockets:\n",
    "        center = pocket[\"center\"]\n",
    "        rank = pocket[\"rank\"]\n",
    "\n",
    "        print(f\"Docking receptor: {protein.pdbqt_path.name}, ligand: {ligand.pdbqt_path.name}, pocket: {rank}\")\n",
    "\n",
    "        vina = VinaDocking(\n",
    "            receptor=protein.pdbqt_path,\n",
    "            ligand=ligand.pdbqt_path,\n",
    "            center=center,\n",
    "            size=(40, 40, 40),\n",
    "            exhaustiveness=8,\n",
    "            num_modes=9\n",
    "        )\n",
    "        \n",
    "        vina.run()\n",
    "        vina.save_results(f\"vina_results/{protein.pdbqt_path.stem}_{ligand.pdbqt_path.stem}_pocket_{rank}_docking\")\n"
   ]
  }
 ],
 "metadata": {
  "kernelspec": {
   "display_name": ".venv",
   "language": "python",
   "name": "python3"
  },
  "language_info": {
   "codemirror_mode": {
    "name": "ipython",
    "version": 3
   },
   "file_extension": ".py",
   "mimetype": "text/x-python",
   "name": "python",
   "nbconvert_exporter": "python",
   "pygments_lexer": "ipython3",
   "version": "3.13.2"
  }
 },
 "nbformat": 4,
 "nbformat_minor": 5
}
